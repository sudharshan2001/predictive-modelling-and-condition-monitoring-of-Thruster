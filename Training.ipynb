{
 "cells": [
  {
   "cell_type": "markdown",
   "metadata": {},
   "source": [
    "# Now we'll take the sequence number 30 which has specific inlet propellant pressure of 20 BAR and train a condition monitoring model"
   ]
  },
  {
   "cell_type": "code",
   "execution_count": 12,
   "metadata": {
    "_cell_guid": "b1076dfc-b9ad-4769-8c92-a6c4dae69d19",
    "_uuid": "8f2839f25d086af736a60e9eeb907d3b93b6e0e5",
    "execution": {
     "iopub.execute_input": "2022-05-10T10:40:17.084844Z",
     "iopub.status.busy": "2022-05-10T10:40:17.084500Z",
     "iopub.status.idle": "2022-05-10T10:40:24.677040Z",
     "shell.execute_reply": "2022-05-10T10:40:24.675982Z",
     "shell.execute_reply.started": "2022-05-10T10:40:17.084802Z"
    }
   },
   "outputs": [],
   "source": [
    "import numpy as np \n",
    "import pandas as pd \n",
    "import matplotlib.pyplot as plt\n",
    "import seaborn as sns\n",
    "\n",
    "\n",
    "import tensorflow as tf\n",
    "from keras.models import Sequential\n",
    "from keras.layers import LSTM, Input\n",
    "from keras.layers import Dense\n",
    "from keras.layers import RepeatVector\n",
    "from keras.layers import TimeDistributed\n",
    "from keras.models import Model\n",
    "\n",
    "from sklearn.preprocessing import MinMaxScaler, StandardScaler"
   ]
  },
  {
   "cell_type": "code",
   "execution_count": 42,
   "metadata": {
    "execution": {
     "iopub.execute_input": "2022-05-10T10:40:29.188772Z",
     "iopub.status.busy": "2022-05-10T10:40:29.188394Z",
     "iopub.status.idle": "2022-05-10T10:40:29.974278Z",
     "shell.execute_reply": "2022-05-10T10:40:29.973050Z",
     "shell.execute_reply.started": "2022-05-10T10:40:29.188728Z"
    }
   },
   "outputs": [
    {
     "data": {
      "text/html": [
       "<div>\n",
       "<style scoped>\n",
       "    .dataframe tbody tr th:only-of-type {\n",
       "        vertical-align: middle;\n",
       "    }\n",
       "\n",
       "    .dataframe tbody tr th {\n",
       "        vertical-align: top;\n",
       "    }\n",
       "\n",
       "    .dataframe thead th {\n",
       "        text-align: right;\n",
       "    }\n",
       "</style>\n",
       "<table border=\"1\" class=\"dataframe\">\n",
       "  <thead>\n",
       "    <tr style=\"text-align: right;\">\n",
       "      <th></th>\n",
       "      <th>Unnamed: 0</th>\n",
       "      <th>ton</th>\n",
       "      <th>thrust</th>\n",
       "      <th>mfr</th>\n",
       "    </tr>\n",
       "  </thead>\n",
       "  <tbody>\n",
       "    <tr>\n",
       "      <th>0</th>\n",
       "      <td>2021-03-04 09:16:00.000</td>\n",
       "      <td>0.0</td>\n",
       "      <td>-0.001365</td>\n",
       "      <td>0.0</td>\n",
       "    </tr>\n",
       "    <tr>\n",
       "      <th>1</th>\n",
       "      <td>2021-03-04 09:16:00.010</td>\n",
       "      <td>0.0</td>\n",
       "      <td>0.002536</td>\n",
       "      <td>0.0</td>\n",
       "    </tr>\n",
       "    <tr>\n",
       "      <th>2</th>\n",
       "      <td>2021-03-04 09:16:00.020</td>\n",
       "      <td>0.0</td>\n",
       "      <td>0.000726</td>\n",
       "      <td>0.0</td>\n",
       "    </tr>\n",
       "    <tr>\n",
       "      <th>3</th>\n",
       "      <td>2021-03-04 09:16:00.030</td>\n",
       "      <td>0.0</td>\n",
       "      <td>-0.006169</td>\n",
       "      <td>0.0</td>\n",
       "    </tr>\n",
       "    <tr>\n",
       "      <th>4</th>\n",
       "      <td>2021-03-04 09:16:00.040</td>\n",
       "      <td>0.0</td>\n",
       "      <td>0.001169</td>\n",
       "      <td>0.0</td>\n",
       "    </tr>\n",
       "  </tbody>\n",
       "</table>\n",
       "</div>"
      ],
      "text/plain": [
       "                Unnamed: 0  ton    thrust  mfr\n",
       "0  2021-03-04 09:16:00.000  0.0 -0.001365  0.0\n",
       "1  2021-03-04 09:16:00.010  0.0  0.002536  0.0\n",
       "2  2021-03-04 09:16:00.020  0.0  0.000726  0.0\n",
       "3  2021-03-04 09:16:00.030  0.0 -0.006169  0.0\n",
       "4  2021-03-04 09:16:00.040  0.0  0.001169  0.0"
      ]
     },
     "execution_count": 42,
     "metadata": {},
     "output_type": "execute_result"
    }
   ],
   "source": [
    "df=pd.read_csv('data/SN01_20_30.csv')\n",
    "df.head()"
   ]
  },
  {
   "cell_type": "code",
   "execution_count": 43,
   "metadata": {
    "execution": {
     "iopub.execute_input": "2022-05-10T10:41:46.731776Z",
     "iopub.status.busy": "2022-05-10T10:41:46.731406Z",
     "iopub.status.idle": "2022-05-10T10:41:46.829767Z",
     "shell.execute_reply": "2022-05-10T10:41:46.828744Z",
     "shell.execute_reply.started": "2022-05-10T10:41:46.731741Z"
    }
   },
   "outputs": [
    {
     "data": {
      "text/html": [
       "<style type=\"text/css\">\n",
       "#T_17ce2_row0_col0, #T_17ce2_row1_col1 {\n",
       "  background-color: #b40426;\n",
       "  color: #f1f1f1;\n",
       "}\n",
       "#T_17ce2_row0_col1, #T_17ce2_row1_col0 {\n",
       "  background-color: #3b4cc0;\n",
       "  color: #f1f1f1;\n",
       "}\n",
       "</style>\n",
       "<table id=\"T_17ce2_\">\n",
       "  <thead>\n",
       "    <tr>\n",
       "      <th class=\"blank level0\" >&nbsp;</th>\n",
       "      <th class=\"col_heading level0 col0\" >thrust</th>\n",
       "      <th class=\"col_heading level0 col1\" >mfr</th>\n",
       "    </tr>\n",
       "  </thead>\n",
       "  <tbody>\n",
       "    <tr>\n",
       "      <th id=\"T_17ce2_level0_row0\" class=\"row_heading level0 row0\" >thrust</th>\n",
       "      <td id=\"T_17ce2_row0_col0\" class=\"data row0 col0\" >1.000000</td>\n",
       "      <td id=\"T_17ce2_row0_col1\" class=\"data row0 col1\" >0.959416</td>\n",
       "    </tr>\n",
       "    <tr>\n",
       "      <th id=\"T_17ce2_level0_row1\" class=\"row_heading level0 row1\" >mfr</th>\n",
       "      <td id=\"T_17ce2_row1_col0\" class=\"data row1 col0\" >0.959416</td>\n",
       "      <td id=\"T_17ce2_row1_col1\" class=\"data row1 col1\" >1.000000</td>\n",
       "    </tr>\n",
       "  </tbody>\n",
       "</table>\n"
      ],
      "text/plain": [
       "<pandas.io.formats.style.Styler at 0x155304e2be0>"
      ]
     },
     "execution_count": 43,
     "metadata": {},
     "output_type": "execute_result"
    }
   ],
   "source": [
    "df[['thrust','mfr']].corr().style.background_gradient(cmap='coolwarm')"
   ]
  },
  {
   "cell_type": "code",
   "execution_count": 44,
   "metadata": {
    "execution": {
     "iopub.execute_input": "2022-05-10T10:41:48.050467Z",
     "iopub.status.busy": "2022-05-10T10:41:48.050136Z",
     "iopub.status.idle": "2022-05-10T10:41:48.077956Z",
     "shell.execute_reply": "2022-05-10T10:41:48.077128Z",
     "shell.execute_reply.started": "2022-05-10T10:41:48.050434Z"
    }
   },
   "outputs": [
    {
     "data": {
      "text/html": [
       "<style type=\"text/css\">\n",
       "#T_aa2c6_row0_col0, #T_aa2c6_row1_col1 {\n",
       "  background-color: #b40426;\n",
       "  color: #f1f1f1;\n",
       "}\n",
       "#T_aa2c6_row0_col1, #T_aa2c6_row1_col0 {\n",
       "  background-color: #3b4cc0;\n",
       "  color: #f1f1f1;\n",
       "}\n",
       "</style>\n",
       "<table id=\"T_aa2c6_\">\n",
       "  <thead>\n",
       "    <tr>\n",
       "      <th class=\"blank level0\" >&nbsp;</th>\n",
       "      <th class=\"col_heading level0 col0\" >thrust</th>\n",
       "      <th class=\"col_heading level0 col1\" >mfr</th>\n",
       "    </tr>\n",
       "  </thead>\n",
       "  <tbody>\n",
       "    <tr>\n",
       "      <th id=\"T_aa2c6_level0_row0\" class=\"row_heading level0 row0\" >thrust</th>\n",
       "      <td id=\"T_aa2c6_row0_col0\" class=\"data row0 col0\" >1.000000</td>\n",
       "      <td id=\"T_aa2c6_row0_col1\" class=\"data row0 col1\" >0.973107</td>\n",
       "    </tr>\n",
       "    <tr>\n",
       "      <th id=\"T_aa2c6_level0_row1\" class=\"row_heading level0 row1\" >mfr</th>\n",
       "      <td id=\"T_aa2c6_row1_col0\" class=\"data row1 col0\" >0.973107</td>\n",
       "      <td id=\"T_aa2c6_row1_col1\" class=\"data row1 col1\" >1.000000</td>\n",
       "    </tr>\n",
       "  </tbody>\n",
       "</table>\n"
      ],
      "text/plain": [
       "<pandas.io.formats.style.Styler at 0x155772efd60>"
      ]
     },
     "execution_count": 44,
     "metadata": {},
     "output_type": "execute_result"
    }
   ],
   "source": [
    "df[df['ton']==0][['thrust','mfr']].corr().style.background_gradient(cmap='coolwarm')"
   ]
  },
  {
   "cell_type": "code",
   "execution_count": 45,
   "metadata": {
    "execution": {
     "iopub.execute_input": "2022-05-10T10:41:48.477430Z",
     "iopub.status.busy": "2022-05-10T10:41:48.476619Z",
     "iopub.status.idle": "2022-05-10T10:41:48.503571Z",
     "shell.execute_reply": "2022-05-10T10:41:48.502743Z",
     "shell.execute_reply.started": "2022-05-10T10:41:48.477387Z"
    }
   },
   "outputs": [
    {
     "data": {
      "text/html": [
       "<style type=\"text/css\">\n",
       "#T_fae35_row0_col0, #T_fae35_row1_col1 {\n",
       "  background-color: #023858;\n",
       "  color: #f1f1f1;\n",
       "}\n",
       "#T_fae35_row0_col1, #T_fae35_row1_col0 {\n",
       "  background-color: #fff7fb;\n",
       "  color: #000000;\n",
       "}\n",
       "</style>\n",
       "<table id=\"T_fae35_\">\n",
       "  <thead>\n",
       "    <tr>\n",
       "      <th class=\"blank level0\" >&nbsp;</th>\n",
       "      <th class=\"col_heading level0 col0\" >thrust</th>\n",
       "      <th class=\"col_heading level0 col1\" >mfr</th>\n",
       "    </tr>\n",
       "  </thead>\n",
       "  <tbody>\n",
       "    <tr>\n",
       "      <th id=\"T_fae35_level0_row0\" class=\"row_heading level0 row0\" >thrust</th>\n",
       "      <td id=\"T_fae35_row0_col0\" class=\"data row0 col0\" >1.000000</td>\n",
       "      <td id=\"T_fae35_row0_col1\" class=\"data row0 col1\" >0.917851</td>\n",
       "    </tr>\n",
       "    <tr>\n",
       "      <th id=\"T_fae35_level0_row1\" class=\"row_heading level0 row1\" >mfr</th>\n",
       "      <td id=\"T_fae35_row1_col0\" class=\"data row1 col0\" >0.917851</td>\n",
       "      <td id=\"T_fae35_row1_col1\" class=\"data row1 col1\" >1.000000</td>\n",
       "    </tr>\n",
       "  </tbody>\n",
       "</table>\n"
      ],
      "text/plain": [
       "<pandas.io.formats.style.Styler at 0x155774b9a90>"
      ]
     },
     "execution_count": 45,
     "metadata": {},
     "output_type": "execute_result"
    }
   ],
   "source": [
    "df[df['ton']==1][['thrust','mfr']].corr().style.background_gradient()"
   ]
  },
  {
   "cell_type": "code",
   "execution_count": 3,
   "metadata": {
    "execution": {
     "iopub.execute_input": "2022-05-10T10:41:55.324671Z",
     "iopub.status.busy": "2022-05-10T10:41:55.324274Z",
     "iopub.status.idle": "2022-05-10T10:41:55.333209Z",
     "shell.execute_reply": "2022-05-10T10:41:55.332389Z",
     "shell.execute_reply.started": "2022-05-10T10:41:55.324641Z"
    }
   },
   "outputs": [],
   "source": [
    "df_thrust_ts = df.loc[:, [\"Unnamed: 0\",\"thrust\"]]\n",
    "df_thrust_ts.index = df_thrust_ts[\"Unnamed: 0\"]\n",
    "ts = df_thrust_ts.drop(\"Unnamed: 0\",axis=1)"
   ]
  },
  {
   "cell_type": "code",
   "execution_count": 4,
   "metadata": {
    "execution": {
     "iopub.execute_input": "2022-05-10T10:44:56.816953Z",
     "iopub.status.busy": "2022-05-10T10:44:56.816648Z",
     "iopub.status.idle": "2022-05-10T10:44:56.823504Z",
     "shell.execute_reply": "2022-05-10T10:44:56.822682Z",
     "shell.execute_reply.started": "2022-05-10T10:44:56.816920Z"
    }
   },
   "outputs": [
    {
     "data": {
      "text/plain": [
       "Index(['Unnamed: 0', 'ton', 'thrust', 'mfr'], dtype='object')"
      ]
     },
     "execution_count": 4,
     "metadata": {},
     "output_type": "execute_result"
    }
   ],
   "source": [
    "df.columns"
   ]
  },
  {
   "cell_type": "code",
   "execution_count": 7,
   "metadata": {
    "execution": {
     "iopub.execute_input": "2022-05-10T10:44:57.240400Z",
     "iopub.status.busy": "2022-05-10T10:44:57.239881Z",
     "iopub.status.idle": "2022-05-10T10:44:57.260628Z",
     "shell.execute_reply": "2022-05-10T10:44:57.259605Z",
     "shell.execute_reply.started": "2022-05-10T10:44:57.240367Z"
    }
   },
   "outputs": [],
   "source": [
    "df['Date'] = pd.to_datetime(df['Unnamed: 0'])"
   ]
  },
  {
   "cell_type": "code",
   "execution_count": 8,
   "metadata": {
    "execution": {
     "iopub.execute_input": "2022-05-10T10:45:02.185707Z",
     "iopub.status.busy": "2022-05-10T10:45:02.185208Z",
     "iopub.status.idle": "2022-05-10T10:45:02.215901Z",
     "shell.execute_reply": "2022-05-10T10:45:02.214338Z",
     "shell.execute_reply.started": "2022-05-10T10:45:02.185672Z"
    }
   },
   "outputs": [],
   "source": [
    "train, test = df.loc[df['Date'] <= '2021-03-04 10:15:00.000'], df.loc[df['Date'] > '2021-03-04 10:15:00.010']"
   ]
  },
  {
   "cell_type": "code",
   "execution_count": 13,
   "metadata": {
    "execution": {
     "iopub.execute_input": "2022-05-10T10:45:05.974869Z",
     "iopub.status.busy": "2022-05-10T10:45:05.974040Z",
     "iopub.status.idle": "2022-05-10T10:45:06.011065Z",
     "shell.execute_reply": "2022-05-10T10:45:06.010265Z",
     "shell.execute_reply.started": "2022-05-10T10:45:05.974816Z"
    }
   },
   "outputs": [
    {
     "name": "stderr",
     "output_type": "stream",
     "text": [
      "D:\\IDE\\anaconda3\\envs\\RL1\\lib\\site-packages\\pandas\\core\\frame.py:3678: SettingWithCopyWarning:\n",
      "\n",
      "\n",
      "A value is trying to be set on a copy of a slice from a DataFrame.\n",
      "Try using .loc[row_indexer,col_indexer] = value instead\n",
      "\n",
      "See the caveats in the documentation: https://pandas.pydata.org/pandas-docs/stable/user_guide/indexing.html#returning-a-view-versus-a-copy\n",
      "\n",
      "D:\\IDE\\anaconda3\\envs\\RL1\\lib\\site-packages\\pandas\\core\\frame.py:3678: SettingWithCopyWarning:\n",
      "\n",
      "\n",
      "A value is trying to be set on a copy of a slice from a DataFrame.\n",
      "Try using .loc[row_indexer,col_indexer] = value instead\n",
      "\n",
      "See the caveats in the documentation: https://pandas.pydata.org/pandas-docs/stable/user_guide/indexing.html#returning-a-view-versus-a-copy\n",
      "\n"
     ]
    }
   ],
   "source": [
    "scaler = StandardScaler()\n",
    "scaler = scaler.fit(train[['thrust', 'mfr']])\n",
    "\n",
    "train[['thrust', 'mfr']] = scaler.transform(train[['thrust', 'mfr']])\n",
    "test[['thrust', 'mfr']] = scaler.transform(test[['thrust', 'mfr']])"
   ]
  },
  {
   "cell_type": "code",
   "execution_count": 14,
   "metadata": {
    "execution": {
     "iopub.execute_input": "2022-05-10T10:45:10.874624Z",
     "iopub.status.busy": "2022-05-10T10:45:10.873286Z",
     "iopub.status.idle": "2022-05-10T10:45:10.882313Z",
     "shell.execute_reply": "2022-05-10T10:45:10.881424Z",
     "shell.execute_reply.started": "2022-05-10T10:45:10.874547Z"
    }
   },
   "outputs": [
    {
     "data": {
      "text/plain": [
       "Index(['Unnamed: 0', 'ton', 'thrust', 'mfr', 'Date'], dtype='object')"
      ]
     },
     "execution_count": 14,
     "metadata": {},
     "output_type": "execute_result"
    }
   ],
   "source": [
    "train.columns"
   ]
  },
  {
   "cell_type": "code",
   "execution_count": 15,
   "metadata": {
    "execution": {
     "iopub.execute_input": "2022-05-10T10:45:11.222346Z",
     "iopub.status.busy": "2022-05-10T10:45:11.222017Z",
     "iopub.status.idle": "2022-05-10T10:45:11.239533Z",
     "shell.execute_reply": "2022-05-10T10:45:11.238702Z",
     "shell.execute_reply.started": "2022-05-10T10:45:11.222311Z"
    }
   },
   "outputs": [
    {
     "name": "stderr",
     "output_type": "stream",
     "text": [
      "D:\\IDE\\anaconda3\\envs\\RL1\\lib\\site-packages\\pandas\\core\\frame.py:4906: SettingWithCopyWarning:\n",
      "\n",
      "\n",
      "A value is trying to be set on a copy of a slice from a DataFrame\n",
      "\n",
      "See the caveats in the documentation: https://pandas.pydata.org/pandas-docs/stable/user_guide/indexing.html#returning-a-view-versus-a-copy\n",
      "\n"
     ]
    },
    {
     "data": {
      "text/html": [
       "<div>\n",
       "<style scoped>\n",
       "    .dataframe tbody tr th:only-of-type {\n",
       "        vertical-align: middle;\n",
       "    }\n",
       "\n",
       "    .dataframe tbody tr th {\n",
       "        vertical-align: top;\n",
       "    }\n",
       "\n",
       "    .dataframe thead th {\n",
       "        text-align: right;\n",
       "    }\n",
       "</style>\n",
       "<table border=\"1\" class=\"dataframe\">\n",
       "  <thead>\n",
       "    <tr style=\"text-align: right;\">\n",
       "      <th></th>\n",
       "      <th>thrust</th>\n",
       "      <th>mfr</th>\n",
       "      <th>Date</th>\n",
       "    </tr>\n",
       "  </thead>\n",
       "  <tbody>\n",
       "    <tr>\n",
       "      <th>0</th>\n",
       "      <td>-1.041626</td>\n",
       "      <td>-1.088146</td>\n",
       "      <td>2021-03-04 09:16:00.000</td>\n",
       "    </tr>\n",
       "    <tr>\n",
       "      <th>1</th>\n",
       "      <td>-1.027592</td>\n",
       "      <td>-1.088146</td>\n",
       "      <td>2021-03-04 09:16:00.010</td>\n",
       "    </tr>\n",
       "    <tr>\n",
       "      <th>2</th>\n",
       "      <td>-1.034102</td>\n",
       "      <td>-1.088146</td>\n",
       "      <td>2021-03-04 09:16:00.020</td>\n",
       "    </tr>\n",
       "    <tr>\n",
       "      <th>3</th>\n",
       "      <td>-1.058906</td>\n",
       "      <td>-1.088146</td>\n",
       "      <td>2021-03-04 09:16:00.030</td>\n",
       "    </tr>\n",
       "    <tr>\n",
       "      <th>4</th>\n",
       "      <td>-1.032509</td>\n",
       "      <td>-1.088146</td>\n",
       "      <td>2021-03-04 09:16:00.040</td>\n",
       "    </tr>\n",
       "  </tbody>\n",
       "</table>\n",
       "</div>"
      ],
      "text/plain": [
       "     thrust       mfr                    Date\n",
       "0 -1.041626 -1.088146 2021-03-04 09:16:00.000\n",
       "1 -1.027592 -1.088146 2021-03-04 09:16:00.010\n",
       "2 -1.034102 -1.088146 2021-03-04 09:16:00.020\n",
       "3 -1.058906 -1.088146 2021-03-04 09:16:00.030\n",
       "4 -1.032509 -1.088146 2021-03-04 09:16:00.040"
      ]
     },
     "execution_count": 15,
     "metadata": {},
     "output_type": "execute_result"
    }
   ],
   "source": [
    "train.drop(['Unnamed: 0', 'ton'], axis=1, inplace=True)\n",
    "train.head()"
   ]
  },
  {
   "cell_type": "code",
   "execution_count": 18,
   "metadata": {
    "execution": {
     "iopub.execute_input": "2022-05-10T10:45:13.058114Z",
     "iopub.status.busy": "2022-05-10T10:45:13.057762Z",
     "iopub.status.idle": "2022-05-10T10:45:57.900607Z",
     "shell.execute_reply": "2022-05-10T10:45:57.899712Z",
     "shell.execute_reply.started": "2022-05-10T10:45:13.058078Z"
    }
   },
   "outputs": [],
   "source": [
    "seq_size = 70  # you can increase the seq_size to get better result\n",
    "\n",
    "\n",
    "def to_sequences(x, y, seq_size=1):\n",
    "    x_values = []\n",
    "    y_values = []\n",
    "\n",
    "    for i in range(len(x)-seq_size):\n",
    "\n",
    "        x_values.append(x.iloc[i:(i+seq_size)].values)\n",
    "        y_values.append(y.iloc[i+seq_size])\n",
    "        \n",
    "    return np.array(x_values), np.array(y_values)\n",
    "\n",
    "trainX, trainY = to_sequences(train[['thrust', 'mfr']], train[['thrust', 'mfr']], seq_size)\n",
    "testX, testY = to_sequences(test[['thrust', 'mfr']], test[['thrust', 'mfr']], seq_size)\n"
   ]
  },
  {
   "cell_type": "code",
   "execution_count": null,
   "metadata": {},
   "outputs": [],
   "source": [
    "model.save('model_file/lstm_AE.h5')"
   ]
  },
  {
   "cell_type": "code",
   "execution_count": 22,
   "metadata": {
    "execution": {
     "iopub.execute_input": "2022-05-10T10:46:12.745714Z",
     "iopub.status.busy": "2022-05-10T10:46:12.744614Z",
     "iopub.status.idle": "2022-05-10T10:46:13.333752Z",
     "shell.execute_reply": "2022-05-10T10:46:13.333096Z",
     "shell.execute_reply.started": "2022-05-10T10:46:12.745673Z"
    }
   },
   "outputs": [
    {
     "name": "stdout",
     "output_type": "stream",
     "text": [
      "Model: \"sequential_15\"\n",
      "_________________________________________________________________\n",
      " Layer (type)                Output Shape              Param #   \n",
      "=================================================================\n",
      " lstm_32 (LSTM)              (None, 64)                17152     \n",
      "                                                                 \n",
      " repeat_vector_12 (RepeatVec  (None, 70, 64)           0         \n",
      " tor)                                                            \n",
      "                                                                 \n",
      " lstm_33 (LSTM)              (None, 70, 64)            33024     \n",
      "                                                                 \n",
      " time_distributed_12 (TimeDi  (None, 70, 2)            130       \n",
      " stributed)                                                      \n",
      "                                                                 \n",
      "=================================================================\n",
      "Total params: 50,306\n",
      "Trainable params: 50,306\n",
      "Non-trainable params: 0\n",
      "_________________________________________________________________\n"
     ]
    }
   ],
   "source": [
    "model = tf.keras.models.load_model('lstm_AE.h5')\n",
    "model.summary()"
   ]
  },
  {
   "cell_type": "code",
   "execution_count": 24,
   "metadata": {
    "execution": {
     "iopub.execute_input": "2022-05-10T10:46:19.706264Z",
     "iopub.status.busy": "2022-05-10T10:46:19.705325Z",
     "iopub.status.idle": "2022-05-10T10:52:41.443850Z",
     "shell.execute_reply": "2022-05-10T10:52:41.442291Z",
     "shell.execute_reply.started": "2022-05-10T10:46:19.706206Z"
    }
   },
   "outputs": [
    {
     "data": {
      "text/plain": [
       "(array([[6.25000e+03, 8.48510e+04, 3.00070e+04, 2.18080e+04, 1.73260e+04,\n",
       "         1.42440e+04, 1.25230e+04, 1.15330e+04, 1.10100e+04, 1.11490e+04,\n",
       "         1.19630e+04, 1.36100e+04, 1.39540e+04, 1.43190e+04, 1.45510e+04,\n",
       "         1.45080e+04, 1.27240e+04, 1.02870e+04, 8.41100e+03, 6.80800e+03,\n",
       "         4.87900e+03, 3.17600e+03, 1.92500e+03, 1.05400e+03, 4.84000e+02,\n",
       "         2.73000e+02, 1.61000e+02, 9.70000e+01, 4.10000e+01, 5.00000e+00],\n",
       "        [1.39802e+05, 1.57653e+05, 4.72160e+04, 7.34400e+03, 1.40200e+03,\n",
       "         3.58000e+02, 7.90000e+01, 2.20000e+01, 1.80000e+01, 1.60000e+01,\n",
       "         1.00000e+01, 1.00000e+01, 1.00000e+00, 0.00000e+00, 0.00000e+00,\n",
       "         0.00000e+00, 0.00000e+00, 0.00000e+00, 0.00000e+00, 0.00000e+00,\n",
       "         0.00000e+00, 0.00000e+00, 0.00000e+00, 0.00000e+00, 0.00000e+00,\n",
       "         0.00000e+00, 0.00000e+00, 0.00000e+00, 0.00000e+00, 0.00000e+00]]),\n",
       " array([0.00154852, 0.01090486, 0.0202612 , 0.02961754, 0.03897388,\n",
       "        0.04833022, 0.05768656, 0.0670429 , 0.07639924, 0.08575558,\n",
       "        0.09511192, 0.10446826, 0.1138246 , 0.12318094, 0.13253728,\n",
       "        0.14189362, 0.15124996, 0.1606063 , 0.16996264, 0.17931898,\n",
       "        0.18867532, 0.19803166, 0.207388  , 0.21674434, 0.22610068,\n",
       "        0.23545702, 0.24481336, 0.2541697 , 0.26352604, 0.27288238,\n",
       "        0.28223872]),\n",
       " <a list of 2 BarContainer objects>)"
      ]
     },
     "execution_count": 24,
     "metadata": {},
     "output_type": "execute_result"
    },
    {
     "data": {
      "image/png": "[encoded data removed]",
      "text/plain": [
       "<Figure size 432x288 with 1 Axes>"
      ]
     },
     "metadata": {
      "needs_background": "light"
     },
     "output_type": "display_data"
    }
   ],
   "source": [
    "trainPredict = model.predict(trainX)\n",
    "trainMAE = np.mean(np.abs(trainPredict - trainX), axis=1)\n",
    "plt.hist(trainMAE, bins=30)"
   ]
  },
  {
   "cell_type": "code",
   "execution_count": 25,
   "metadata": {
    "execution": {
     "iopub.execute_input": "2022-05-10T10:52:41.447093Z",
     "iopub.status.busy": "2022-05-10T10:52:41.446656Z",
     "iopub.status.idle": "2022-05-10T10:52:41.682822Z",
     "shell.execute_reply": "2022-05-10T10:52:41.682108Z",
     "shell.execute_reply.started": "2022-05-10T10:52:41.447041Z"
    }
   },
   "outputs": [
    {
     "data": {
      "text/plain": [
       "[<matplotlib.lines.Line2D at 0x15500021610>,\n",
       " <matplotlib.lines.Line2D at 0x15500021880>]"
      ]
     },
     "execution_count": 25,
     "metadata": {},
     "output_type": "execute_result"
    },
    {
     "data": {
      "image/png": "[encoded data removed]",
      "text/plain": [
       "<Figure size 432x288 with 1 Axes>"
      ]
     },
     "metadata": {
      "needs_background": "light"
     },
     "output_type": "display_data"
    }
   ],
   "source": [
    "plt.plot(trainMAE[:6000])"
   ]
  },
  {
   "cell_type": "code",
   "execution_count": 26,
   "metadata": {
    "execution": {
     "iopub.execute_input": "2022-05-10T10:52:41.685263Z",
     "iopub.status.busy": "2022-05-10T10:52:41.684213Z",
     "iopub.status.idle": "2022-05-10T10:52:41.945540Z",
     "shell.execute_reply": "2022-05-10T10:52:41.944533Z",
     "shell.execute_reply.started": "2022-05-10T10:52:41.685223Z"
    }
   },
   "outputs": [
    {
     "data": {
      "text/plain": [
       "[<matplotlib.lines.Line2D at 0x1550002eb20>,\n",
       " <matplotlib.lines.Line2D at 0x155168e8dc0>]"
      ]
     },
     "execution_count": 26,
     "metadata": {},
     "output_type": "execute_result"
    },
    {
     "data": {
      "image/png": "[encoded data removed]",
      "text/plain": [
       "<Figure size 432x288 with 1 Axes>"
      ]
     },
     "metadata": {
      "needs_background": "light"
     },
     "output_type": "display_data"
    }
   ],
   "source": [
    "plt.plot(train[['thrust', 'mfr']][:6000])"
   ]
  },
  {
   "cell_type": "code",
   "execution_count": 27,
   "metadata": {
    "execution": {
     "iopub.execute_input": "2022-05-10T10:52:41.948880Z",
     "iopub.status.busy": "2022-05-10T10:52:41.947723Z",
     "iopub.status.idle": "2022-05-10T10:52:41.966037Z",
     "shell.execute_reply": "2022-05-10T10:52:41.965322Z",
     "shell.execute_reply.started": "2022-05-10T10:52:41.948800Z"
    }
   },
   "outputs": [
    {
     "data": {
      "text/html": [
       "<div>\n",
       "<style scoped>\n",
       "    .dataframe tbody tr th:only-of-type {\n",
       "        vertical-align: middle;\n",
       "    }\n",
       "\n",
       "    .dataframe tbody tr th {\n",
       "        vertical-align: top;\n",
       "    }\n",
       "\n",
       "    .dataframe thead th {\n",
       "        text-align: right;\n",
       "    }\n",
       "</style>\n",
       "<table border=\"1\" class=\"dataframe\">\n",
       "  <thead>\n",
       "    <tr style=\"text-align: right;\">\n",
       "      <th></th>\n",
       "      <th>thrust</th>\n",
       "      <th>mfr</th>\n",
       "      <th>Date</th>\n",
       "    </tr>\n",
       "  </thead>\n",
       "  <tbody>\n",
       "    <tr>\n",
       "      <th>0</th>\n",
       "      <td>-1.041626</td>\n",
       "      <td>-1.088146</td>\n",
       "      <td>2021-03-04 09:16:00.000</td>\n",
       "    </tr>\n",
       "    <tr>\n",
       "      <th>1</th>\n",
       "      <td>-1.027592</td>\n",
       "      <td>-1.088146</td>\n",
       "      <td>2021-03-04 09:16:00.010</td>\n",
       "    </tr>\n",
       "  </tbody>\n",
       "</table>\n",
       "</div>"
      ],
      "text/plain": [
       "     thrust       mfr                    Date\n",
       "0 -1.041626 -1.088146 2021-03-04 09:16:00.000\n",
       "1 -1.027592 -1.088146 2021-03-04 09:16:00.010"
      ]
     },
     "execution_count": 27,
     "metadata": {},
     "output_type": "execute_result"
    }
   ],
   "source": [
    "train.head(2)"
   ]
  },
  {
   "cell_type": "markdown",
   "metadata": {},
   "source": [
    "#### Let's predict the test values and see the anomalies according toour model"
   ]
  },
  {
   "cell_type": "code",
   "execution_count": 28,
   "metadata": {
    "execution": {
     "iopub.execute_input": "2022-05-10T11:00:34.566105Z",
     "iopub.status.busy": "2022-05-10T11:00:34.565616Z",
     "iopub.status.idle": "2022-05-10T11:00:42.468752Z",
     "shell.execute_reply": "2022-05-10T11:00:42.467692Z",
     "shell.execute_reply.started": "2022-05-10T11:00:34.566062Z"
    }
   },
   "outputs": [
    {
     "data": {
      "text/plain": [
       "<matplotlib.legend.Legend at 0x155168838e0>"
      ]
     },
     "execution_count": 28,
     "metadata": {},
     "output_type": "execute_result"
    },
    {
     "data": {
      "image/png": "[encoded data removed]",
      "text/plain": [
       "<Figure size 432x288 with 1 Axes>"
      ]
     },
     "metadata": {
      "needs_background": "light"
     },
     "output_type": "display_data"
    }
   ],
   "source": [
    "testPredict = model.predict(testX)\n",
    "testMAE = np.mean(np.abs(testPredict - testX), axis=1)\n",
    "plt.hist(testMAE, bins=30)\n",
    "plt.legend(['thrust', 'mfr'])"
   ]
  },
  {
   "cell_type": "markdown",
   "metadata": {},
   "source": [
    "#### ill be taking the least values as threshold for thrust and mfr"
   ]
  },
  {
   "cell_type": "code",
   "execution_count": 29,
   "metadata": {
    "execution": {
     "iopub.execute_input": "2022-05-10T10:56:34.722518Z",
     "iopub.status.busy": "2022-05-10T10:56:34.722217Z",
     "iopub.status.idle": "2022-05-10T10:56:34.733073Z",
     "shell.execute_reply": "2022-05-10T10:56:34.731981Z",
     "shell.execute_reply.started": "2022-05-10T10:56:34.722489Z"
    }
   },
   "outputs": [],
   "source": [
    "test_thrust = []\n",
    "for i in range(len(testMAE)):\n",
    "    test_thrust.append(testMAE[i][0])"
   ]
  },
  {
   "cell_type": "code",
   "execution_count": 30,
   "metadata": {
    "execution": {
     "iopub.execute_input": "2022-05-10T10:56:35.383440Z",
     "iopub.status.busy": "2022-05-10T10:56:35.382690Z",
     "iopub.status.idle": "2022-05-10T10:56:35.393542Z",
     "shell.execute_reply": "2022-05-10T10:56:35.392629Z",
     "shell.execute_reply.started": "2022-05-10T10:56:35.383374Z"
    }
   },
   "outputs": [],
   "source": [
    "test_mfr = []\n",
    "for i in range(len(testMAE)):\n",
    "    test_mfr.append(testMAE[i][1])"
   ]
  },
  {
   "cell_type": "code",
   "execution_count": 31,
   "metadata": {
    "execution": {
     "iopub.execute_input": "2022-05-10T11:18:03.353902Z",
     "iopub.status.busy": "2022-05-10T11:18:03.353549Z",
     "iopub.status.idle": "2022-05-10T11:18:03.376208Z",
     "shell.execute_reply": "2022-05-10T11:18:03.374152Z",
     "shell.execute_reply.started": "2022-05-10T11:18:03.353837Z"
    }
   },
   "outputs": [],
   "source": [
    "\n",
    "anomaly_df = pd.DataFrame(test[seq_size:])\n",
    "anomaly_df['test_thrust'] = test_thrust\n",
    "anomaly_df['test_mfr'] = test_mfr\n",
    "\n",
    "max_thrust = 0.22\n",
    "max_mfr = 0.034\n",
    "\n",
    "anomaly_df['max_thrust'] = max_thrust\n",
    "anomaly_df['max_mfr'] = max_mfr\n",
    "\n",
    "anomaly_df['anomaly_thrust'] = anomaly_df['test_thrust'] > anomaly_df['max_thrust']\n",
    "anomaly_df['anomaly_mfr'] = anomaly_df['test_mfr'] > anomaly_df['max_mfr']\n",
    "\n",
    "anomaly_df['thrust'] = test[seq_size:]['thrust']\n",
    "anomaly_df['mfr'] = test[seq_size:]['mfr']"
   ]
  },
  {
   "cell_type": "code",
   "execution_count": 32,
   "metadata": {
    "execution": {
     "iopub.execute_input": "2022-05-10T11:18:04.032478Z",
     "iopub.status.busy": "2022-05-10T11:18:04.032132Z",
     "iopub.status.idle": "2022-05-10T11:18:04.054273Z",
     "shell.execute_reply": "2022-05-10T11:18:04.053503Z",
     "shell.execute_reply.started": "2022-05-10T11:18:04.032444Z"
    }
   },
   "outputs": [
    {
     "data": {
      "text/html": [
       "<div>\n",
       "<style scoped>\n",
       "    .dataframe tbody tr th:only-of-type {\n",
       "        vertical-align: middle;\n",
       "    }\n",
       "\n",
       "    .dataframe tbody tr th {\n",
       "        vertical-align: top;\n",
       "    }\n",
       "\n",
       "    .dataframe thead th {\n",
       "        text-align: right;\n",
       "    }\n",
       "</style>\n",
       "<table border=\"1\" class=\"dataframe\">\n",
       "  <thead>\n",
       "    <tr style=\"text-align: right;\">\n",
       "      <th></th>\n",
       "      <th>Unnamed: 0</th>\n",
       "      <th>ton</th>\n",
       "      <th>thrust</th>\n",
       "      <th>mfr</th>\n",
       "      <th>Date</th>\n",
       "      <th>test_thrust</th>\n",
       "      <th>test_mfr</th>\n",
       "      <th>max_thrust</th>\n",
       "      <th>max_mfr</th>\n",
       "      <th>anomaly_thrust</th>\n",
       "      <th>anomaly_mfr</th>\n",
       "    </tr>\n",
       "  </thead>\n",
       "  <tbody>\n",
       "    <tr>\n",
       "      <th>354072</th>\n",
       "      <td>2021-03-04 10:15:00.720</td>\n",
       "      <td>0.0</td>\n",
       "      <td>-1.053175</td>\n",
       "      <td>-1.088146</td>\n",
       "      <td>2021-03-04 10:15:00.720</td>\n",
       "      <td>0.093812</td>\n",
       "      <td>0.022153</td>\n",
       "      <td>0.22</td>\n",
       "      <td>0.034</td>\n",
       "      <td>False</td>\n",
       "      <td>False</td>\n",
       "    </tr>\n",
       "    <tr>\n",
       "      <th>354073</th>\n",
       "      <td>2021-03-04 10:15:00.730</td>\n",
       "      <td>0.0</td>\n",
       "      <td>-1.083559</td>\n",
       "      <td>-1.088146</td>\n",
       "      <td>2021-03-04 10:15:00.730</td>\n",
       "      <td>0.086189</td>\n",
       "      <td>0.013598</td>\n",
       "      <td>0.22</td>\n",
       "      <td>0.034</td>\n",
       "      <td>False</td>\n",
       "      <td>False</td>\n",
       "    </tr>\n",
       "    <tr>\n",
       "      <th>354074</th>\n",
       "      <td>2021-03-04 10:15:00.740</td>\n",
       "      <td>0.0</td>\n",
       "      <td>-1.076147</td>\n",
       "      <td>-1.088146</td>\n",
       "      <td>2021-03-04 10:15:00.740</td>\n",
       "      <td>0.088057</td>\n",
       "      <td>0.014411</td>\n",
       "      <td>0.22</td>\n",
       "      <td>0.034</td>\n",
       "      <td>False</td>\n",
       "      <td>False</td>\n",
       "    </tr>\n",
       "  </tbody>\n",
       "</table>\n",
       "</div>"
      ],
      "text/plain": [
       "                     Unnamed: 0  ton    thrust       mfr  \\\n",
       "354072  2021-03-04 10:15:00.720  0.0 -1.053175 -1.088146   \n",
       "354073  2021-03-04 10:15:00.730  0.0 -1.083559 -1.088146   \n",
       "354074  2021-03-04 10:15:00.740  0.0 -1.076147 -1.088146   \n",
       "\n",
       "                          Date  test_thrust  test_mfr  max_thrust  max_mfr  \\\n",
       "354072 2021-03-04 10:15:00.720     0.093812  0.022153        0.22    0.034   \n",
       "354073 2021-03-04 10:15:00.730     0.086189  0.013598        0.22    0.034   \n",
       "354074 2021-03-04 10:15:00.740     0.088057  0.014411        0.22    0.034   \n",
       "\n",
       "        anomaly_thrust  anomaly_mfr  \n",
       "354072           False        False  \n",
       "354073           False        False  \n",
       "354074           False        False  "
      ]
     },
     "execution_count": 32,
     "metadata": {},
     "output_type": "execute_result"
    }
   ],
   "source": [
    "anomaly_df.head(3)"
   ]
  },
  {
   "cell_type": "markdown",
   "metadata": {},
   "source": [
    "### Filteriing out the anomalies in dataframe"
   ]
  },
  {
   "cell_type": "code",
   "execution_count": 33,
   "metadata": {
    "execution": {
     "iopub.execute_input": "2022-05-10T11:18:04.291190Z",
     "iopub.status.busy": "2022-05-10T11:18:04.290253Z",
     "iopub.status.idle": "2022-05-10T11:18:04.313767Z",
     "shell.execute_reply": "2022-05-10T11:18:04.313052Z",
     "shell.execute_reply.started": "2022-05-10T11:18:04.291095Z"
    }
   },
   "outputs": [
    {
     "data": {
      "text/html": [
       "<div>\n",
       "<style scoped>\n",
       "    .dataframe tbody tr th:only-of-type {\n",
       "        vertical-align: middle;\n",
       "    }\n",
       "\n",
       "    .dataframe tbody tr th {\n",
       "        vertical-align: top;\n",
       "    }\n",
       "\n",
       "    .dataframe thead th {\n",
       "        text-align: right;\n",
       "    }\n",
       "</style>\n",
       "<table border=\"1\" class=\"dataframe\">\n",
       "  <thead>\n",
       "    <tr style=\"text-align: right;\">\n",
       "      <th></th>\n",
       "      <th>Unnamed: 0</th>\n",
       "      <th>ton</th>\n",
       "      <th>thrust</th>\n",
       "      <th>mfr</th>\n",
       "      <th>Date</th>\n",
       "      <th>test_thrust</th>\n",
       "      <th>test_mfr</th>\n",
       "      <th>max_thrust</th>\n",
       "      <th>max_mfr</th>\n",
       "      <th>anomaly_thrust</th>\n",
       "      <th>anomaly_mfr</th>\n",
       "    </tr>\n",
       "  </thead>\n",
       "  <tbody>\n",
       "    <tr>\n",
       "      <th>354814</th>\n",
       "      <td>2021-03-04 10:15:08.140</td>\n",
       "      <td>0.0</td>\n",
       "      <td>2.497647</td>\n",
       "      <td>1.220443</td>\n",
       "      <td>2021-03-04 10:15:08.140</td>\n",
       "      <td>0.223228</td>\n",
       "      <td>0.031436</td>\n",
       "      <td>0.22</td>\n",
       "      <td>0.034</td>\n",
       "      <td>True</td>\n",
       "      <td>False</td>\n",
       "    </tr>\n",
       "    <tr>\n",
       "      <th>354827</th>\n",
       "      <td>2021-03-04 10:15:08.270</td>\n",
       "      <td>0.0</td>\n",
       "      <td>0.333077</td>\n",
       "      <td>-0.103152</td>\n",
       "      <td>2021-03-04 10:15:08.270</td>\n",
       "      <td>0.224143</td>\n",
       "      <td>0.031466</td>\n",
       "      <td>0.22</td>\n",
       "      <td>0.034</td>\n",
       "      <td>True</td>\n",
       "      <td>False</td>\n",
       "    </tr>\n",
       "  </tbody>\n",
       "</table>\n",
       "</div>"
      ],
      "text/plain": [
       "                     Unnamed: 0  ton    thrust       mfr  \\\n",
       "354814  2021-03-04 10:15:08.140  0.0  2.497647  1.220443   \n",
       "354827  2021-03-04 10:15:08.270  0.0  0.333077 -0.103152   \n",
       "\n",
       "                          Date  test_thrust  test_mfr  max_thrust  max_mfr  \\\n",
       "354814 2021-03-04 10:15:08.140     0.223228  0.031436        0.22    0.034   \n",
       "354827 2021-03-04 10:15:08.270     0.224143  0.031466        0.22    0.034   \n",
       "\n",
       "        anomaly_thrust  anomaly_mfr  \n",
       "354814            True        False  \n",
       "354827            True        False  "
      ]
     },
     "execution_count": 33,
     "metadata": {},
     "output_type": "execute_result"
    }
   ],
   "source": [
    "anomaly_thrust = anomaly_df.loc[anomaly_df['anomaly_thrust'] == True]\n",
    "anomaly_thrust.head(2)"
   ]
  },
  {
   "cell_type": "code",
   "execution_count": 34,
   "metadata": {
    "execution": {
     "iopub.execute_input": "2022-05-10T11:18:04.447747Z",
     "iopub.status.busy": "2022-05-10T11:18:04.447402Z",
     "iopub.status.idle": "2022-05-10T11:18:04.470362Z",
     "shell.execute_reply": "2022-05-10T11:18:04.469672Z",
     "shell.execute_reply.started": "2022-05-10T11:18:04.447715Z"
    }
   },
   "outputs": [
    {
     "data": {
      "text/html": [
       "<div>\n",
       "<style scoped>\n",
       "    .dataframe tbody tr th:only-of-type {\n",
       "        vertical-align: middle;\n",
       "    }\n",
       "\n",
       "    .dataframe tbody tr th {\n",
       "        vertical-align: top;\n",
       "    }\n",
       "\n",
       "    .dataframe thead th {\n",
       "        text-align: right;\n",
       "    }\n",
       "</style>\n",
       "<table border=\"1\" class=\"dataframe\">\n",
       "  <thead>\n",
       "    <tr style=\"text-align: right;\">\n",
       "      <th></th>\n",
       "      <th>Unnamed: 0</th>\n",
       "      <th>ton</th>\n",
       "      <th>thrust</th>\n",
       "      <th>mfr</th>\n",
       "      <th>Date</th>\n",
       "      <th>test_thrust</th>\n",
       "      <th>test_mfr</th>\n",
       "      <th>max_thrust</th>\n",
       "      <th>max_mfr</th>\n",
       "      <th>anomaly_thrust</th>\n",
       "      <th>anomaly_mfr</th>\n",
       "    </tr>\n",
       "  </thead>\n",
       "  <tbody>\n",
       "    <tr>\n",
       "      <th>354284</th>\n",
       "      <td>2021-03-04 10:15:02.840</td>\n",
       "      <td>0.0</td>\n",
       "      <td>-0.795436</td>\n",
       "      <td>-0.822386</td>\n",
       "      <td>2021-03-04 10:15:02.840</td>\n",
       "      <td>0.158043</td>\n",
       "      <td>0.035342</td>\n",
       "      <td>0.22</td>\n",
       "      <td>0.034</td>\n",
       "      <td>False</td>\n",
       "      <td>True</td>\n",
       "    </tr>\n",
       "    <tr>\n",
       "      <th>354820</th>\n",
       "      <td>2021-03-04 10:15:08.200</td>\n",
       "      <td>0.0</td>\n",
       "      <td>1.777942</td>\n",
       "      <td>0.633019</td>\n",
       "      <td>2021-03-04 10:15:08.200</td>\n",
       "      <td>0.204911</td>\n",
       "      <td>0.040821</td>\n",
       "      <td>0.22</td>\n",
       "      <td>0.034</td>\n",
       "      <td>False</td>\n",
       "      <td>True</td>\n",
       "    </tr>\n",
       "  </tbody>\n",
       "</table>\n",
       "</div>"
      ],
      "text/plain": [
       "                     Unnamed: 0  ton    thrust       mfr  \\\n",
       "354284  2021-03-04 10:15:02.840  0.0 -0.795436 -0.822386   \n",
       "354820  2021-03-04 10:15:08.200  0.0  1.777942  0.633019   \n",
       "\n",
       "                          Date  test_thrust  test_mfr  max_thrust  max_mfr  \\\n",
       "354284 2021-03-04 10:15:02.840     0.158043  0.035342        0.22    0.034   \n",
       "354820 2021-03-04 10:15:08.200     0.204911  0.040821        0.22    0.034   \n",
       "\n",
       "        anomaly_thrust  anomaly_mfr  \n",
       "354284           False         True  \n",
       "354820           False         True  "
      ]
     },
     "execution_count": 34,
     "metadata": {},
     "output_type": "execute_result"
    }
   ],
   "source": [
    "anomaly_mfr = anomaly_df.loc[anomaly_df['anomaly_mfr'] == True]\n",
    "anomaly_mfr.head(2)"
   ]
  },
  {
   "cell_type": "code",
   "execution_count": 35,
   "metadata": {
    "execution": {
     "iopub.execute_input": "2022-05-10T11:18:04.574711Z",
     "iopub.status.busy": "2022-05-10T11:18:04.573677Z",
     "iopub.status.idle": "2022-05-10T11:18:04.580794Z",
     "shell.execute_reply": "2022-05-10T11:18:04.580044Z",
     "shell.execute_reply.started": "2022-05-10T11:18:04.574670Z"
    }
   },
   "outputs": [
    {
     "data": {
      "text/plain": [
       "((30, 11), (5928, 11), (49, 11))"
      ]
     },
     "execution_count": 35,
     "metadata": {},
     "output_type": "execute_result"
    }
   ],
   "source": [
    "anomaly_mfr.shape , anomaly_df.shape, anomaly_thrust.shape"
   ]
  },
  {
   "cell_type": "code",
   "execution_count": 36,
   "metadata": {
    "execution": {
     "iopub.execute_input": "2022-05-10T11:18:04.803284Z",
     "iopub.status.busy": "2022-05-10T11:18:04.802928Z",
     "iopub.status.idle": "2022-05-10T11:18:04.811303Z",
     "shell.execute_reply": "2022-05-10T11:18:04.810107Z",
     "shell.execute_reply.started": "2022-05-10T11:18:04.803246Z"
    }
   },
   "outputs": [],
   "source": [
    "# As we standardized the values now we're inversing it\n",
    "anomaly_df_scaler = scaler.inverse_transform(anomaly_df[['test_thrust', 'test_mfr']])"
   ]
  },
  {
   "cell_type": "code",
   "execution_count": 37,
   "metadata": {
    "execution": {
     "iopub.execute_input": "2022-05-10T11:18:05.290706Z",
     "iopub.status.busy": "2022-05-10T11:18:05.290174Z",
     "iopub.status.idle": "2022-05-10T11:18:05.303620Z",
     "shell.execute_reply": "2022-05-10T11:18:05.302654Z",
     "shell.execute_reply.started": "2022-05-10T11:18:05.290664Z"
    }
   },
   "outputs": [],
   "source": [
    "anomaly_df_scaler_thrust = []\n",
    "for i in range(len(anomaly_df_scaler)):\n",
    "    anomaly_df_scaler_thrust.append(anomaly_df_scaler[i][0])\n",
    "    \n",
    "anomaly_df_scaler_mfr = []\n",
    "for i in range(len(anomaly_df_scaler)):\n",
    "    anomaly_df_scaler_mfr.append(anomaly_df_scaler[i][1])"
   ]
  },
  {
   "cell_type": "code",
   "execution_count": 38,
   "metadata": {
    "collapsed": true,
    "execution": {
     "iopub.execute_input": "2022-05-10T11:18:06.126792Z",
     "iopub.status.busy": "2022-05-10T11:18:06.125377Z",
     "iopub.status.idle": "2022-05-10T11:18:06.141852Z",
     "shell.execute_reply": "2022-05-10T11:18:06.140932Z",
     "shell.execute_reply.started": "2022-05-10T11:18:06.126707Z"
    }
   },
   "outputs": [
    {
     "data": {
      "text/plain": [
       "array([[  0.33211917, 147.35850791],\n",
       "       [  0.34514748, 148.0770401 ],\n",
       "       [  0.34539365, 148.08942079],\n",
       "       [  0.34609891, 147.3607036 ],\n",
       "       [  0.34598425, 147.59817594],\n",
       "       [  0.34165266, 147.4250484 ],\n",
       "       [  0.33976507, 147.23887327],\n",
       "       [  0.32839567, 147.21430387],\n",
       "       [  0.32931578, 147.25214502],\n",
       "       [  0.30766728, 148.05832696],\n",
       "       [  0.30945235, 147.60391058],\n",
       "       [  0.30824045, 147.60140636],\n",
       "       [  0.34428276, 147.41010028],\n",
       "       [  0.31828072, 147.33711295],\n",
       "       [  0.30266992, 147.71403865],\n",
       "       [  0.30208746, 147.65872501],\n",
       "       [  0.30368673, 148.05369383],\n",
       "       [  0.30239824, 147.67824785],\n",
       "       [  0.31409094, 147.97595473],\n",
       "       [  0.31269049, 147.93531311],\n",
       "       [  0.31466705, 149.37025368],\n",
       "       [  0.31261765, 147.96840648],\n",
       "       [  0.31290179, 148.24478837],\n",
       "       [  0.31209872, 148.71336256],\n",
       "       [  0.31197865, 147.38167457],\n",
       "       [  0.31248768, 148.15231935],\n",
       "       [  0.30973634, 148.04383858],\n",
       "       [  0.30511148, 147.63190294],\n",
       "       [  0.30545197, 147.56592613],\n",
       "       [  0.31930174, 147.44977659]])"
      ]
     },
     "execution_count": 38,
     "metadata": {},
     "output_type": "execute_result"
    }
   ],
   "source": [
    "anomaly_mfr_scaler = scaler.inverse_transform(anomaly_mfr[['test_thrust', 'test_mfr']])\n",
    "anomaly_mfr_scaler"
   ]
  },
  {
   "cell_type": "code",
   "execution_count": 39,
   "metadata": {
    "execution": {
     "iopub.execute_input": "2022-05-10T11:18:06.707290Z",
     "iopub.status.busy": "2022-05-10T11:18:06.706934Z",
     "iopub.status.idle": "2022-05-10T11:18:06.713589Z",
     "shell.execute_reply": "2022-05-10T11:18:06.712416Z",
     "shell.execute_reply.started": "2022-05-10T11:18:06.707255Z"
    }
   },
   "outputs": [],
   "source": [
    "anomaly_mfr_scaler_thrust = []\n",
    "for i in range(len(anomaly_mfr_scaler)):\n",
    "    anomaly_mfr_scaler_thrust.append(anomaly_mfr_scaler[i][0])\n",
    "    \n",
    "anomaly_mfr_scaler_mfr = []\n",
    "for i in range(len(anomaly_mfr_scaler)):\n",
    "    anomaly_mfr_scaler_mfr.append(anomaly_mfr_scaler[i][1])"
   ]
  },
  {
   "cell_type": "markdown",
   "metadata": {},
   "source": [
    "# Plotting the anomalies"
   ]
  },
  {
   "cell_type": "code",
   "execution_count": 40,
   "metadata": {
    "execution": {
     "iopub.execute_input": "2022-05-10T11:18:06.975824Z",
     "iopub.status.busy": "2022-05-10T11:18:06.975359Z",
     "iopub.status.idle": "2022-05-10T11:18:07.514893Z",
     "shell.execute_reply": "2022-05-10T11:18:07.514220Z",
     "shell.execute_reply.started": "2022-05-10T11:18:06.975790Z"
    }
   },
   "outputs": [
    {
     "data": {
      "text/plain": [
       "<AxesSubplot:xlabel='Date'>"
      ]
     },
     "execution_count": 40,
     "metadata": {},
     "output_type": "execute_result"
    },
    {
     "data": {
      "image/png": "[encoded data removed]",
      "text/plain": [
       "<Figure size 432x288 with 1 Axes>"
      ]
     },
     "metadata": {
      "needs_background": "light"
     },
     "output_type": "display_data"
    }
   ],
   "source": [
    "sns.lineplot(x=anomaly_df['Date'],y= anomaly_df_scaler_mfr)\n",
    "sns.scatterplot(x=anomaly_mfr['Date'], y=anomaly_mfr_scaler_mfr, color='r')"
   ]
  },
  {
   "cell_type": "code",
   "execution_count": 41,
   "metadata": {
    "execution": {
     "iopub.execute_input": "2022-05-10T11:18:07.516712Z",
     "iopub.status.busy": "2022-05-10T11:18:07.516374Z",
     "iopub.status.idle": "2022-05-10T11:18:08.034259Z",
     "shell.execute_reply": "2022-05-10T11:18:08.033073Z",
     "shell.execute_reply.started": "2022-05-10T11:18:07.516682Z"
    }
   },
   "outputs": [
    {
     "data": {
      "text/plain": [
       "<AxesSubplot:xlabel='Date'>"
      ]
     },
     "execution_count": 41,
     "metadata": {},
     "output_type": "execute_result"
    },
    {
     "data": {
      "image/png": "[encoded data removed]",
      "text/plain": [
       "<Figure size 432x288 with 1 Axes>"
      ]
     },
     "metadata": {
      "needs_background": "light"
     },
     "output_type": "display_data"
    }
   ],
   "source": [
    "sns.lineplot(x=anomaly_df['Date'],y= anomaly_df_scaler_thrust)\n",
    "sns.scatterplot(x=anomaly_mfr['Date'], y=anomaly_mfr_scaler_thrust, color='r')"
   ]
  },
  {
   "cell_type": "code",
   "execution_count": null,
   "metadata": {},
   "outputs": [],
   "source": []
  }
 ],
 "metadata": {
  "kernelspec": {
   "display_name": "Python 3 (ipykernel)",
   "language": "python",
   "name": "python3"
  },
  "language_info": {
   "codemirror_mode": {
    "name": "ipython",
    "version": 3
   },
   "file_extension": ".py",
   "mimetype": "text/x-python",
   "name": "python",
   "nbconvert_exporter": "python",
   "pygments_lexer": "ipython3",
   "version": "3.9.7"
  }
 },
 "nbformat": 4,
 "nbformat_minor": 4
}
